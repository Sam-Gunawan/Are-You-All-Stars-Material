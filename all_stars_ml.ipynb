{
 "cells": [
  {
   "cell_type": "markdown",
   "metadata": {},
   "source": [
    "# ARE YOU ALL STARS MATERIAL?\n",
    "\n",
    "In this notebook, we will explore whether a player with certain stats is All-Stars material or not using a machine learning approach. We will start by gathering and preparing our dataset, which consists of comprehensive statistics of NBA players, both current and past. This data has been meticulously collected and verified from the official [NBA website](https://www.nba.com/).\n",
    "\n",
    "We will then proceed with data preprocessing, feature selection, and model training to predict the likelihood of a player being an All-Star. Let's dive into the exciting world of basketball analytics and machine learning!"
   ]
  },
  {
   "cell_type": "markdown",
   "metadata": {},
   "source": [
    "First of all, we import the necessary dependencies."
   ]
  },
  {
   "cell_type": "code",
   "execution_count": 6,
   "metadata": {},
   "outputs": [],
   "source": [
    "import numpy as np\n",
    "import pandas as pd\n"
   ]
  },
  {
   "cell_type": "markdown",
   "metadata": {},
   "source": [
    "Then, we clean up the data and make sure Python can read each category correctly. E.g., the player's height is still in feet and inches format, we'd have to make sure that Python can read it as inches (with integer type)."
   ]
  },
  {
   "cell_type": "code",
   "execution_count": null,
   "metadata": {},
   "outputs": [
    {
     "name": "stdout",
     "output_type": "stream",
     "text": [
      "                       Name  ... PIE (Player Impact Estimate)\n",
      "0              Jaylen Brown  ...                         11.3\n",
      "1             Stephen Curry  ...                         13.6\n",
      "2              Kevin Durant  ...                         14.8\n",
      "3              James Harden  ...                         14.2\n",
      "4              Kyrie Irving  ...                         12.8\n",
      "5              LeBron James  ...                         17.2\n",
      "6            Damian Lillard  ...                         14.7\n",
      "7              Jayson Tatum  ...                         16.2\n",
      "8             Anthony Davis  ...                         18.5\n",
      "9             Jalen Brunson  ...                         13.9\n",
      "10          Cade Cunningham  ...                         14.8\n",
      "11          Anthony Edwards  ...                         13.8\n",
      "12           Darius Garland  ...                         12.9\n",
      "13              Tyler Herro  ...                         13.7\n",
      "14        Jaren Jackson Jr.  ...                         13.3\n",
      "15              Evan Mobley  ...                         15.2\n",
      "16           Jalen Williams  ...                         13.7\n",
      "17  Shai Gilgeous-Alexander  ...                         20.5\n",
      "18             Nikola Jokić  ...                         21.2\n",
      "19         Donovan Mitchell  ...                         13.9\n",
      "20           Alperen Sengun  ...                         15.8\n",
      "21            Pascal Siakam  ...                         13.6\n",
      "22       Karl-Anthony Towns  ...                         16.7\n",
      "23        Victor Wembanyama  ...                         16.8\n",
      "24               Trae Young  ...                         12.4\n",
      "25    Giannis Antetokounmpo  ...                         20.3\n",
      "26           Stephon Castle  ...                          8.0\n",
      "27            Dalton Knecht  ...                          8.4\n",
      "28             Jaylen Wells  ...                          6.9\n",
      "29           Keyonte George  ...                          9.1\n",
      "30                Zach Edey  ...                         11.5\n",
      "31     Trayce Jackson-Davis  ...                         12.0\n",
      "32                Ryan Dunn  ...                          5.8\n",
      "33            Amen Thompson  ...                         12.0\n",
      "\n",
      "[34 rows x 7 columns]\n"
     ]
    }
   ],
   "source": [
    "all_stars_df = pd.read_csv('players_dataset/All_Stars.csv', header=0)\n"
   ]
  },
  {
   "cell_type": "markdown",
   "metadata": {},
   "source": [
    "Create a function for calculating cosine similarity metric"
   ]
  },
  {
   "cell_type": "code",
   "execution_count": null,
   "metadata": {},
   "outputs": [],
   "source": [
    "def cosine_similarity(values):\n",
    "    # should be able to take in 6 values (or any number of values) and return the cosine similarity between them\n",
    "    pass"
   ]
  },
  {
   "cell_type": "markdown",
   "metadata": {},
   "source": [
    "Create a function for calculating euclidian distance metric"
   ]
  },
  {
   "cell_type": "code",
   "execution_count": null,
   "metadata": {},
   "outputs": [],
   "source": [
    "def euclidian_distance(values):\n",
    "    # should be able to take in 6 values (or any number of values) and return the euclidian distance between them\n",
    "    pass"
   ]
  }
 ],
 "metadata": {
  "kernelspec": {
   "display_name": "Python 3",
   "language": "python",
   "name": "python3"
  },
  "language_info": {
   "codemirror_mode": {
    "name": "ipython",
    "version": 3
   },
   "file_extension": ".py",
   "mimetype": "text/x-python",
   "name": "python",
   "nbconvert_exporter": "python",
   "pygments_lexer": "ipython3",
   "version": "3.13.1"
  }
 },
 "nbformat": 4,
 "nbformat_minor": 2
}
